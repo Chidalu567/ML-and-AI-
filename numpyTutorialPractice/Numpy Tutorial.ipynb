{
 "cells": [
  {
   "cell_type": "code",
   "execution_count": 73,
   "id": "b0fd54d0",
   "metadata": {},
   "outputs": [],
   "source": [
    "import numpy as np"
   ]
  },
  {
   "cell_type": "markdown",
   "id": "a6e11a06",
   "metadata": {},
   "source": [
    "## Data types and attributes of the numpy"
   ]
  },
  {
   "cell_type": "markdown",
   "id": "d8aa6d67",
   "metadata": {},
   "source": [
    "Numpy has only one data type which is the ndarray data type."
   ]
  },
  {
   "cell_type": "code",
   "execution_count": 74,
   "id": "43cf8408",
   "metadata": {},
   "outputs": [
    {
     "data": {
      "text/plain": [
       "array([1, 2, 3])"
      ]
     },
     "execution_count": 74,
     "metadata": {},
     "output_type": "execute_result"
    }
   ],
   "source": [
    "# ----- Creating an ndarray\n",
    "a1 = np.array([1,2,3]); # ---- Create a 1 dimensional array\n",
    "a1"
   ]
  },
  {
   "cell_type": "code",
   "execution_count": 75,
   "id": "11d72aad",
   "metadata": {},
   "outputs": [
    {
     "data": {
      "text/plain": [
       "array([[1, 2, 3],\n",
       "       [4, 5, 6]])"
      ]
     },
     "execution_count": 75,
     "metadata": {},
     "output_type": "execute_result"
    }
   ],
   "source": [
    "# --- Creating a 2-dimensional array\n",
    "a2 = np.array([[1,2,3],[4,5,6]]);\n",
    "a2"
   ]
  },
  {
   "cell_type": "code",
   "execution_count": 76,
   "id": "c0a353f7",
   "metadata": {},
   "outputs": [
    {
     "data": {
      "text/plain": [
       "array([[[ 1,  2,  3],\n",
       "        [ 4,  5,  6]],\n",
       "\n",
       "       [[ 7,  8,  9],\n",
       "        [11, 12, 13]],\n",
       "\n",
       "       [[14, 15, 16],\n",
       "        [17, 18, 19]]])"
      ]
     },
     "execution_count": 76,
     "metadata": {},
     "output_type": "execute_result"
    }
   ],
   "source": [
    "# ---- Creating a 3-dimensional array\n",
    "a3 = np.array([\n",
    "    [[1,2,3],[4,5,6]],\n",
    "    [[7,8,9],[11,12,13]],\n",
    "    [[14,15,16],[17,18,19]]]);\n",
    "a3"
   ]
  },
  {
   "cell_type": "code",
   "execution_count": 77,
   "id": "cc35e4b1",
   "metadata": {},
   "outputs": [
    {
     "data": {
      "text/plain": [
       "(1, 2, 3)"
      ]
     },
     "execution_count": 77,
     "metadata": {},
     "output_type": "execute_result"
    }
   ],
   "source": [
    "# ---- Finding the dimension of an array\n",
    "a1.ndim , a2.ndim, a3.ndim"
   ]
  },
  {
   "cell_type": "code",
   "execution_count": 78,
   "id": "1bf89cf6",
   "metadata": {},
   "outputs": [
    {
     "data": {
      "text/plain": [
       "(dtype('int32'), dtype('int32'), dtype('int32'))"
      ]
     },
     "execution_count": 78,
     "metadata": {},
     "output_type": "execute_result"
    }
   ],
   "source": [
    "# ---- Finding the data type of the elements in an ndarray\n",
    "a1.dtype, a2.dtype, a3.dtype"
   ]
  },
  {
   "cell_type": "code",
   "execution_count": 79,
   "id": "5e141f6d",
   "metadata": {},
   "outputs": [
    {
     "data": {
      "text/plain": [
       "(3, 6, 18)"
      ]
     },
     "execution_count": 79,
     "metadata": {},
     "output_type": "execute_result"
    }
   ],
   "source": [
    "# ---- Finding the number of elements in an ndarray\n",
    "a1.size, a2.size, a3.size"
   ]
  },
  {
   "cell_type": "code",
   "execution_count": 80,
   "id": "c5a6e03f",
   "metadata": {},
   "outputs": [],
   "source": [
    " # ---- passing an ndarray to a pandas dataframe\n",
    "import pandas as pd;\n",
    "\n",
    "df = pd.DataFrame(a2); # ---- Creating a pandas data frame"
   ]
  },
  {
   "cell_type": "code",
   "execution_count": 81,
   "id": "904076cb",
   "metadata": {},
   "outputs": [
    {
     "data": {
      "text/html": [
       "<div>\n",
       "<style scoped>\n",
       "    .dataframe tbody tr th:only-of-type {\n",
       "        vertical-align: middle;\n",
       "    }\n",
       "\n",
       "    .dataframe tbody tr th {\n",
       "        vertical-align: top;\n",
       "    }\n",
       "\n",
       "    .dataframe thead th {\n",
       "        text-align: right;\n",
       "    }\n",
       "</style>\n",
       "<table border=\"1\" class=\"dataframe\">\n",
       "  <thead>\n",
       "    <tr style=\"text-align: right;\">\n",
       "      <th></th>\n",
       "      <th>0</th>\n",
       "      <th>1</th>\n",
       "      <th>2</th>\n",
       "    </tr>\n",
       "  </thead>\n",
       "  <tbody>\n",
       "    <tr>\n",
       "      <th>0</th>\n",
       "      <td>1</td>\n",
       "      <td>2</td>\n",
       "      <td>3</td>\n",
       "    </tr>\n",
       "    <tr>\n",
       "      <th>1</th>\n",
       "      <td>4</td>\n",
       "      <td>5</td>\n",
       "      <td>6</td>\n",
       "    </tr>\n",
       "  </tbody>\n",
       "</table>\n",
       "</div>"
      ],
      "text/plain": [
       "   0  1  2\n",
       "0  1  2  3\n",
       "1  4  5  6"
      ]
     },
     "execution_count": 81,
     "metadata": {},
     "output_type": "execute_result"
    }
   ],
   "source": [
    "df"
   ]
  },
  {
   "cell_type": "markdown",
   "id": "c457a4d9",
   "metadata": {},
   "source": [
    "## Creating Arrays in numpy"
   ]
  },
  {
   "cell_type": "code",
   "execution_count": 82,
   "id": "b4645bef",
   "metadata": {},
   "outputs": [
    {
     "data": {
      "text/plain": [
       "array([1, 2, 3, 4, 5])"
      ]
     },
     "execution_count": 82,
     "metadata": {},
     "output_type": "execute_result"
    }
   ],
   "source": [
    "# ---- 1 dimensional array\n",
    "a1 = np.array([1,2,3,4,5]); # ----- Creating a one dimensional array\n",
    "a1"
   ]
  },
  {
   "cell_type": "code",
   "execution_count": 83,
   "id": "b8564036",
   "metadata": {},
   "outputs": [
    {
     "data": {
      "text/plain": [
       "array([[1, 1, 1, 1],\n",
       "       [1, 1, 1, 1],\n",
       "       [1, 1, 1, 1]], dtype=int64)"
      ]
     },
     "execution_count": 83,
     "metadata": {},
     "output_type": "execute_result"
    }
   ],
   "source": [
    "sample_array_of_ones = np.ones((3,4),dtype='int64') # ----- Generate an array with values of one.\n",
    "sample_array_of_ones"
   ]
  },
  {
   "cell_type": "code",
   "execution_count": 84,
   "id": "5e5d1af8",
   "metadata": {},
   "outputs": [
    {
     "data": {
      "text/plain": [
       "array([[0., 0., 0., 0.],\n",
       "       [0., 0., 0., 0.],\n",
       "       [0., 0., 0., 0.]])"
      ]
     },
     "execution_count": 84,
     "metadata": {},
     "output_type": "execute_result"
    }
   ],
   "source": [
    "zeros = np.zeros((3,4),dtype=\"float\"); # ---- Generate an array with only zero elements\n",
    "zeros"
   ]
  },
  {
   "cell_type": "code",
   "execution_count": 85,
   "id": "de0f123a",
   "metadata": {},
   "outputs": [
    {
     "data": {
      "text/plain": [
       "array([[13,  8],\n",
       "       [14, 13],\n",
       "       [ 9, 10]])"
      ]
     },
     "execution_count": 85,
     "metadata": {},
     "output_type": "execute_result"
    }
   ],
   "source": [
    "\n",
    "# ----- Generating an array with random values\n",
    "random = np.random.randint(0,20,(3,2)); # ---- ndarray with random elements\n",
    "random"
   ]
  },
  {
   "cell_type": "code",
   "execution_count": 86,
   "id": "139869b7",
   "metadata": {},
   "outputs": [
    {
     "data": {
      "text/plain": [
       "array([[0.07630829, 0.77991879, 0.43840923, 0.72346518, 0.97798951],\n",
       "       [0.53849587, 0.50112046, 0.07205113, 0.26843898, 0.4998825 ],\n",
       "       [0.67923   , 0.80373904, 0.38094113, 0.06593635, 0.2881456 ],\n",
       "       [0.90959353, 0.21338535, 0.45212396, 0.93120602, 0.02489923]])"
      ]
     },
     "execution_count": 86,
     "metadata": {},
     "output_type": "execute_result"
    }
   ],
   "source": [
    "np.random.seed(7); # ---- Generate random elements in our array but for every execution let it e the same.\n",
    "random2 = np.random.random((4,5)); # ---- ndarray with random elements also\n",
    "random2"
   ]
  },
  {
   "cell_type": "markdown",
   "id": "5c4dc4ff",
   "metadata": {},
   "source": [
    "\n",
    "## Viewing arrays and matrices"
   ]
  },
  {
   "cell_type": "markdown",
   "id": "8aea562d",
   "metadata": {},
   "source": [
    "Arrays are viewed using the slice operator [] or also called the **nothing** bracket."
   ]
  },
  {
   "cell_type": "code",
   "execution_count": 87,
   "id": "489216b1",
   "metadata": {},
   "outputs": [
    {
     "data": {
      "text/plain": [
       "array([1, 2, 3, 4, 5])"
      ]
     },
     "execution_count": 87,
     "metadata": {},
     "output_type": "execute_result"
    }
   ],
   "source": [
    "a1"
   ]
  },
  {
   "cell_type": "code",
   "execution_count": 88,
   "id": "0e649a52",
   "metadata": {},
   "outputs": [
    {
     "data": {
      "text/plain": [
       "array([[1, 2, 3],\n",
       "       [4, 5, 6]])"
      ]
     },
     "execution_count": 88,
     "metadata": {},
     "output_type": "execute_result"
    }
   ],
   "source": [
    "a2"
   ]
  },
  {
   "cell_type": "code",
   "execution_count": 89,
   "id": "115a1f4f",
   "metadata": {},
   "outputs": [
    {
     "data": {
      "text/plain": [
       "array([[[ 1,  2,  3],\n",
       "        [ 4,  5,  6]],\n",
       "\n",
       "       [[ 7,  8,  9],\n",
       "        [11, 12, 13]],\n",
       "\n",
       "       [[14, 15, 16],\n",
       "        [17, 18, 19]]])"
      ]
     },
     "execution_count": 89,
     "metadata": {},
     "output_type": "execute_result"
    }
   ],
   "source": [
    "a3"
   ]
  },
  {
   "cell_type": "code",
   "execution_count": 90,
   "id": "eaa50dac",
   "metadata": {},
   "outputs": [
    {
     "data": {
      "text/plain": [
       "array([1, 2, 3, 4])"
      ]
     },
     "execution_count": 90,
     "metadata": {},
     "output_type": "execute_result"
    }
   ],
   "source": [
    "# ---- Viewing the 4 elements of a1\n",
    "a1[:4]"
   ]
  },
  {
   "cell_type": "code",
   "execution_count": 91,
   "id": "5adf2f0d",
   "metadata": {},
   "outputs": [
    {
     "data": {
      "text/plain": [
       "array([4, 5])"
      ]
     },
     "execution_count": 91,
     "metadata": {},
     "output_type": "execute_result"
    }
   ],
   "source": [
    "# ---- Viewing the 2 elements of a2 in row 2\n",
    "a2[1,:2]"
   ]
  },
  {
   "cell_type": "code",
   "execution_count": 92,
   "id": "2bfbf006",
   "metadata": {},
   "outputs": [
    {
     "data": {
      "text/plain": [
       "array([17, 18, 19])"
      ]
     },
     "execution_count": 92,
     "metadata": {},
     "output_type": "execute_result"
    }
   ],
   "source": [
    "# ---- Viewing the elements in a 3d-array\n",
    "a3[2,1,:3]"
   ]
  },
  {
   "cell_type": "code",
   "execution_count": 93,
   "id": "4318457c",
   "metadata": {},
   "outputs": [
    {
     "data": {
      "text/plain": [
       "array([[[[0, 2, 8, 9, 6],\n",
       "         [4, 9, 7, 3, 3],\n",
       "         [8, 3, 0, 1, 0],\n",
       "         [0, 6, 7, 7, 9]],\n",
       "\n",
       "        [[3, 0, 7, 7, 7],\n",
       "         [0, 5, 4, 3, 1],\n",
       "         [3, 1, 3, 4, 3],\n",
       "         [1, 9, 5, 9, 1]],\n",
       "\n",
       "        [[2, 3, 2, 2, 5],\n",
       "         [7, 3, 0, 9, 9],\n",
       "         [3, 4, 5, 3, 0],\n",
       "         [4, 8, 6, 7, 2]]],\n",
       "\n",
       "\n",
       "       [[[7, 3, 8, 6, 6],\n",
       "         [5, 6, 5, 7, 1],\n",
       "         [5, 4, 4, 9, 9],\n",
       "         [0, 6, 2, 6, 8]],\n",
       "\n",
       "        [[2, 4, 1, 6, 1],\n",
       "         [5, 1, 6, 9, 8],\n",
       "         [6, 5, 9, 7, 5],\n",
       "         [4, 9, 6, 8, 1]],\n",
       "\n",
       "        [[5, 5, 8, 3, 7],\n",
       "         [7, 9, 4, 7, 5],\n",
       "         [9, 6, 2, 0, 5],\n",
       "         [3, 0, 5, 7, 1]]]])"
      ]
     },
     "execution_count": 93,
     "metadata": {},
     "output_type": "execute_result"
    }
   ],
   "source": [
    "# ----- How to understand complex arrays\n",
    "random_4 = np.random.randint(10,size=(2,3,4,5))\n",
    "random_4"
   ]
  },
  {
   "cell_type": "markdown",
   "id": "25b9751a",
   "metadata": {},
   "source": [
    "## Manipulating arrays"
   ]
  },
  {
   "cell_type": "markdown",
   "id": "8d9ebf02",
   "metadata": {},
   "source": [
    "### Arithemetic"
   ]
  },
  {
   "cell_type": "code",
   "execution_count": 94,
   "id": "30398136",
   "metadata": {},
   "outputs": [
    {
     "data": {
      "text/plain": [
       "array([1, 2, 3, 4, 5])"
      ]
     },
     "execution_count": 94,
     "metadata": {},
     "output_type": "execute_result"
    }
   ],
   "source": [
    "a1\n"
   ]
  },
  {
   "cell_type": "code",
   "execution_count": 95,
   "id": "7f084505",
   "metadata": {},
   "outputs": [
    {
     "data": {
      "text/plain": [
       "array([[1, 2, 3],\n",
       "       [4, 5, 6]])"
      ]
     },
     "execution_count": 95,
     "metadata": {},
     "output_type": "execute_result"
    }
   ],
   "source": [
    "a2"
   ]
  },
  {
   "cell_type": "code",
   "execution_count": 96,
   "id": "07ea789d",
   "metadata": {},
   "outputs": [
    {
     "data": {
      "text/plain": [
       "array([[[ 1,  2,  3],\n",
       "        [ 4,  5,  6]],\n",
       "\n",
       "       [[ 7,  8,  9],\n",
       "        [11, 12, 13]],\n",
       "\n",
       "       [[14, 15, 16],\n",
       "        [17, 18, 19]]])"
      ]
     },
     "execution_count": 96,
     "metadata": {},
     "output_type": "execute_result"
    }
   ],
   "source": [
    "a3"
   ]
  },
  {
   "cell_type": "code",
   "execution_count": 97,
   "id": "b2e9d7c9",
   "metadata": {},
   "outputs": [
    {
     "data": {
      "text/plain": [
       "array([1, 1, 1, 1, 1], dtype=int64)"
      ]
     },
     "execution_count": 97,
     "metadata": {},
     "output_type": "execute_result"
    }
   ],
   "source": [
    "ones = np.ones(5,dtype=\"int64\") # ---- Create a 1-dimensional ndarray\n",
    "ones"
   ]
  },
  {
   "cell_type": "code",
   "execution_count": 98,
   "id": "69d6b749",
   "metadata": {},
   "outputs": [
    {
     "data": {
      "text/plain": [
       "array([2, 3, 4, 5, 6], dtype=int64)"
      ]
     },
     "execution_count": 98,
     "metadata": {},
     "output_type": "execute_result"
    }
   ],
   "source": [
    "# ---- Addition\n",
    "a1 + ones"
   ]
  },
  {
   "cell_type": "code",
   "execution_count": 99,
   "id": "8707ddf1",
   "metadata": {},
   "outputs": [
    {
     "data": {
      "text/plain": [
       "array([0, 1, 2, 3, 4], dtype=int64)"
      ]
     },
     "execution_count": 99,
     "metadata": {},
     "output_type": "execute_result"
    }
   ],
   "source": [
    "# ---- Subtraction\n",
    "a1 - ones"
   ]
  },
  {
   "cell_type": "code",
   "execution_count": 100,
   "id": "6f71e464",
   "metadata": {},
   "outputs": [
    {
     "data": {
      "text/plain": [
       "array([1., 2., 3., 4., 5.])"
      ]
     },
     "execution_count": 100,
     "metadata": {},
     "output_type": "execute_result"
    }
   ],
   "source": [
    "# ---- division\n",
    "a1 / ones"
   ]
  },
  {
   "cell_type": "code",
   "execution_count": 101,
   "id": "a8df868f",
   "metadata": {},
   "outputs": [
    {
     "data": {
      "text/plain": [
       "array([1, 0, 0, 0, 0], dtype=int64)"
      ]
     },
     "execution_count": 101,
     "metadata": {},
     "output_type": "execute_result"
    }
   ],
   "source": [
    "# ---- floor division\n",
    "ones // a1 "
   ]
  },
  {
   "cell_type": "code",
   "execution_count": 102,
   "id": "5e7446d5",
   "metadata": {},
   "outputs": [
    {
     "data": {
      "text/plain": [
       "array([[ 8,  8, 27,  0, 10],\n",
       "       [ 0, 14, 18,  8, 45],\n",
       "       [ 9, 10,  3,  0,  0]])"
      ]
     },
     "execution_count": 102,
     "metadata": {},
     "output_type": "execute_result"
    }
   ],
   "source": [
    "# ---- try something else\n",
    "random_5 = np.random.randint(10,size=(3,5))\n",
    "a1 * random_5"
   ]
  },
  {
   "cell_type": "markdown",
   "id": "fad88155",
   "metadata": {},
   "source": [
    "### Aggregation"
   ]
  },
  {
   "cell_type": "markdown",
   "id": "65595443",
   "metadata": {},
   "source": [
    "<p> Aggregation is performing same operation on a large dataset. Like sum, mean , standard deviation and so on."
   ]
  },
  {
   "cell_type": "markdown",
   "id": "90cb87df",
   "metadata": {},
   "source": [
    "The numpy **sum** method is preferred when performing **sum** on an ndarray. This is beacause it was written in c and its more faster.\n",
    "Below is a measure of the speed.\n",
    "The np.sum is an example of an aggregation "
   ]
  },
  {
   "cell_type": "code",
   "execution_count": 107,
   "id": "5fab0ae1",
   "metadata": {},
   "outputs": [],
   "source": [
    "random_6 = np.random.random(1000) # ---- 100 columns"
   ]
  },
  {
   "cell_type": "code",
   "execution_count": 108,
   "id": "ad1bffd1",
   "metadata": {},
   "outputs": [
    {
     "name": "stdout",
     "output_type": "stream",
     "text": [
      "13.1 µs ± 1.57 µs per loop (mean ± std. dev. of 7 runs, 100,000 loops each)\n",
      "169 µs ± 18.1 µs per loop (mean ± std. dev. of 7 runs, 1,000 loops each)\n"
     ]
    }
   ],
   "source": [
    "%timeit np.sum(random_6)\n",
    "%timeit sum(random_6)"
   ]
  },
  {
   "cell_type": "code",
   "execution_count": 109,
   "id": "a0ac4c75",
   "metadata": {},
   "outputs": [
    {
     "data": {
      "text/plain": [
       "6.6"
      ]
     },
     "execution_count": 109,
     "metadata": {},
     "output_type": "execute_result"
    }
   ],
   "source": [
    "# ----- performing the mean \n",
    "array1 = np.array([1,5,8,9,10]);\n",
    "array2 = np.array([1,10,100,1000,2000,45000]);\n",
    "\n",
    "array1.mean()"
   ]
  },
  {
   "cell_type": "code",
   "execution_count": 117,
   "id": "82953368",
   "metadata": {},
   "outputs": [
    {
     "data": {
      "text/plain": [
       "(10.64, 274038674.5833333)"
      ]
     },
     "execution_count": 117,
     "metadata": {},
     "output_type": "execute_result"
    }
   ],
   "source": [
    "# ---- Variance\n",
    "lower_var = array1.var()\n",
    "higher_var = array2.var()\n",
    "# ---- Array1 has lower var than array2 because of the distance of the datas from each other is smaller\n",
    "# than that of array2\n",
    "array1.var() , array2.var()"
   ]
  },
  {
   "cell_type": "code",
   "execution_count": 118,
   "id": "448ec438",
   "metadata": {},
   "outputs": [
    {
     "data": {
      "text/plain": [
       "(3.2619012860600183, 16554.11352453925)"
      ]
     },
     "execution_count": 118,
     "metadata": {},
     "output_type": "execute_result"
    }
   ],
   "source": [
    "# ---- Standard Deviation\n",
    "array1.std(), array2.std()"
   ]
  },
  {
   "cell_type": "code",
   "execution_count": 115,
   "id": "35e56ddd",
   "metadata": {},
   "outputs": [],
   "source": [
    "# ----- Plotting to visualize variance\n",
    "%matplotlib inline\n",
    "import matplotlib.pyplot as plt"
   ]
  },
  {
   "cell_type": "code",
   "execution_count": 123,
   "id": "b982ecf7",
   "metadata": {},
   "outputs": [
    {
     "data": {
      "image/png": "[encoded data removed]",
      "text/plain": [
       "<Figure size 640x480 with 1 Axes>"
      ]
     },
     "metadata": {},
     "output_type": "display_data"
    }
   ],
   "source": [
    "plt.hist(lower_var) # ---- plot histogram\n",
    "plt.show()"
   ]
  },
  {
   "cell_type": "code",
   "execution_count": 122,
   "id": "c6a3b64d",
   "metadata": {},
   "outputs": [
    {
     "data": {
      "image/png": "[encoded data removed]",
      "text/plain": [
       "<Figure size 640x480 with 1 Axes>"
      ]
     },
     "metadata": {},
     "output_type": "display_data"
    }
   ],
   "source": [
    "plt.hist(higher_var);\n",
    "plt.show()"
   ]
  },
  {
   "cell_type": "markdown",
   "id": "70d61d36",
   "metadata": {},
   "source": [
    "## Reshaping and Transposing a matrix"
   ]
  },
  {
   "cell_type": "markdown",
   "id": "f15f80d6",
   "metadata": {},
   "source": [
    "Lets try to use element-wise multiplication to multiply elements of different dimension."
   ]
  },
  {
   "cell_type": "code",
   "execution_count": 125,
   "id": "e8328271",
   "metadata": {},
   "outputs": [
    {
     "data": {
      "text/plain": [
       "array([[1, 2, 3],\n",
       "       [4, 5, 6]])"
      ]
     },
     "execution_count": 125,
     "metadata": {},
     "output_type": "execute_result"
    }
   ],
   "source": [
    "a2\n"
   ]
  },
  {
   "cell_type": "code",
   "execution_count": 126,
   "id": "4a758db1",
   "metadata": {},
   "outputs": [
    {
     "data": {
      "text/plain": [
       "array([[[ 1,  2,  3],\n",
       "        [ 4,  5,  6]],\n",
       "\n",
       "       [[ 7,  8,  9],\n",
       "        [11, 12, 13]],\n",
       "\n",
       "       [[14, 15, 16],\n",
       "        [17, 18, 19]]])"
      ]
     },
     "execution_count": 126,
     "metadata": {},
     "output_type": "execute_result"
    }
   ],
   "source": [
    "a3"
   ]
  },
  {
   "cell_type": "code",
   "execution_count": 172,
   "id": "250ced70",
   "metadata": {},
   "outputs": [
    {
     "data": {
      "text/plain": [
       "((2, 3), (3, 2, 3), (5,))"
      ]
     },
     "execution_count": 172,
     "metadata": {},
     "output_type": "execute_result"
    }
   ],
   "source": [
    "a2.shape , a3.shape, a1.shape\n"
   ]
  },
  {
   "cell_type": "code",
   "execution_count": 135,
   "id": "f923c3bf",
   "metadata": {},
   "outputs": [
    {
     "data": {
      "text/plain": [
       "(2, 3, 4, 5)"
      ]
     },
     "execution_count": 135,
     "metadata": {},
     "output_type": "execute_result"
    }
   ],
   "source": [
    "random_4.shape"
   ]
  },
  {
   "cell_type": "code",
   "execution_count": 173,
   "id": "4a89e278",
   "metadata": {},
   "outputs": [
    {
     "data": {
      "text/plain": [
       "array([[[1, 2, 3],\n",
       "        [4, 5, 6]]])"
      ]
     },
     "execution_count": 173,
     "metadata": {},
     "output_type": "execute_result"
    }
   ],
   "source": [
    "re_shaped_random_4 =  a2.reshape((1,2,3)) # ---- Reshape the ndarray size\n",
    "re_shaped_random_4\n"
   ]
  },
  {
   "cell_type": "code",
   "execution_count": 200,
   "id": "8f772b9b",
   "metadata": {},
   "outputs": [
    {
     "data": {
      "text/plain": [
       "array([[[[14],\n",
       "         [32]],\n",
       "\n",
       "        [[32],\n",
       "         [77]]]])"
      ]
     },
     "execution_count": 200,
     "metadata": {},
     "output_type": "execute_result"
    }
   ],
   "source": [
    "np.dot(a2,re_shaped_random_4)"
   ]
  },
  {
   "cell_type": "markdown",
   "id": "f833af0f",
   "metadata": {},
   "source": [
    "## Dot Product\n",
    "\n"
   ]
  },
  {
   "cell_type": "markdown",
   "id": "0577a7b8",
   "metadata": {},
   "source": [
    "### About Broadcasting"
   ]
  },
  {
   "cell_type": "markdown",
   "id": "5134ac72",
   "metadata": {},
   "source": [
    "When there occurs a 1 in the shape of the array, it is replaced by the largest size. for example\n",
    "3 by 1 by 3 * 4 by 7 by 4 => 3 by 7 by 4"
   ]
  },
  {
   "cell_type": "code",
   "execution_count": 187,
   "id": "e9160e57",
   "metadata": {},
   "outputs": [],
   "source": [
    "random_1 = np.random.randint(10,size=(5 , 7)) # ---- Generate array with random values not greater than 10"
   ]
  },
  {
   "cell_type": "code",
   "execution_count": 195,
   "id": "0620451b",
   "metadata": {},
   "outputs": [],
   "source": [
    "random_2 = np.random.randint(10,size=(5 , 7)) # ---- Generate array with random values not greater than 10"
   ]
  },
  {
   "cell_type": "code",
   "execution_count": 196,
   "id": "28db4721",
   "metadata": {},
   "outputs": [
    {
     "data": {
      "text/plain": [
       "array([[ 2, 56, 12, 24, 16, 21, 45],\n",
       "       [72,  0, 54,  6,  8,  2, 63],\n",
       "       [14, 49, 18,  0, 12, 12,  0],\n",
       "       [ 0,  0, 64, 10,  0,  0, 48],\n",
       "       [54,  0, 15,  0, 56, 30,  0]])"
      ]
     },
     "execution_count": 196,
     "metadata": {},
     "output_type": "execute_result"
    }
   ],
   "source": [
    "random_1 * random_2"
   ]
  },
  {
   "cell_type": "code",
   "execution_count": 199,
   "id": "54b00979",
   "metadata": {},
   "outputs": [
    {
     "data": {
      "text/plain": [
       "array([[176, 183, 209, 205, 152],\n",
       "       [130, 205, 221, 163, 106],\n",
       "       [100, 117, 105,  80, 143],\n",
       "       [100, 150, 166, 122,  76],\n",
       "       [143, 224, 198, 152, 155]])"
      ]
     },
     "execution_count": 199,
     "metadata": {},
     "output_type": "execute_result"
    }
   ],
   "source": [
    "result = np.dot(random_1,random_2.T);\n",
    "result"
   ]
  },
  {
   "cell_type": "markdown",
   "id": "26ab5f68",
   "metadata": {},
   "source": [
    "## Comparison Operators in Numpy"
   ]
  },
  {
   "cell_type": "markdown",
   "id": "13ca5298",
   "metadata": {},
   "source": [
    "We could compare each elements in two different ndarray together"
   ]
  },
  {
   "cell_type": "code",
   "execution_count": 201,
   "id": "ce68d609",
   "metadata": {},
   "outputs": [
    {
     "data": {
      "text/plain": [
       "array([[ True, False, False, False, False,  True,  True],\n",
       "       [False, False,  True, False, False, False,  True],\n",
       "       [False, False, False, False,  True, False, False],\n",
       "       [ True, False, False, False, False, False, False],\n",
       "       [ True, False, False,  True, False,  True,  True]])"
      ]
     },
     "execution_count": 201,
     "metadata": {},
     "output_type": "execute_result"
    }
   ],
   "source": [
    "random_1 > random_2"
   ]
  },
  {
   "cell_type": "code",
   "execution_count": 202,
   "id": "252c012f",
   "metadata": {},
   "outputs": [
    {
     "data": {
      "text/plain": [
       "array([[False, False, False, False,  True, False, False],\n",
       "       [False, False, False, False, False, False, False],\n",
       "       [False,  True, False, False, False, False, False],\n",
       "       [False, False,  True, False, False, False, False],\n",
       "       [False, False, False, False, False, False, False]])"
      ]
     },
     "execution_count": 202,
     "metadata": {},
     "output_type": "execute_result"
    }
   ],
   "source": [
    "random_1 == random_2"
   ]
  },
  {
   "cell_type": "code",
   "execution_count": 203,
   "id": "12f00606",
   "metadata": {},
   "outputs": [
    {
     "data": {
      "text/plain": [
       "array([[False,  True,  True,  True, False, False, False],\n",
       "       [ True,  True, False,  True,  True,  True, False],\n",
       "       [ True, False,  True,  True, False,  True,  True],\n",
       "       [False,  True, False,  True,  True,  True,  True],\n",
       "       [False,  True,  True, False,  True, False, False]])"
      ]
     },
     "execution_count": 203,
     "metadata": {},
     "output_type": "execute_result"
    }
   ],
   "source": [
    "random_1 < random_2"
   ]
  },
  {
   "cell_type": "code",
   "execution_count": 205,
   "id": "875d7e75",
   "metadata": {},
   "outputs": [
    {
     "data": {
      "text/plain": [
       "array([[False,  True,  True,  True,  True, False, False],\n",
       "       [ True,  True, False,  True,  True,  True, False],\n",
       "       [ True,  True,  True,  True, False,  True,  True],\n",
       "       [False,  True,  True,  True,  True,  True,  True],\n",
       "       [False,  True,  True, False,  True, False, False]])"
      ]
     },
     "execution_count": 205,
     "metadata": {},
     "output_type": "execute_result"
    }
   ],
   "source": [
    "random_1 <= random_2"
   ]
  },
  {
   "cell_type": "markdown",
   "id": "0dd6529c",
   "metadata": {},
   "source": [
    "## Sorting Arrays in numpy"
   ]
  },
  {
   "cell_type": "markdown",
   "id": "a1755b49",
   "metadata": {},
   "source": [
    "Numpy provides various methods for sorting arrays"
   ]
  },
  {
   "cell_type": "code",
   "execution_count": 209,
   "id": "f16a8a55",
   "metadata": {},
   "outputs": [
    {
     "data": {
      "text/plain": [
       "array([[2, 7, 2, 3, 4, 7, 9],\n",
       "       [8, 0, 9, 2, 1, 1, 9],\n",
       "       [2, 7, 2, 0, 6, 2, 0],\n",
       "       [6, 0, 8, 2, 0, 0, 6],\n",
       "       [9, 0, 3, 5, 7, 6, 6]])"
      ]
     },
     "execution_count": 209,
     "metadata": {},
     "output_type": "execute_result"
    }
   ],
   "source": [
    "random_1"
   ]
  },
  {
   "cell_type": "code",
   "execution_count": 210,
   "id": "777951e2",
   "metadata": {},
   "outputs": [
    {
     "data": {
      "text/plain": [
       "array([[2, 2, 3, 4, 7, 7, 9],\n",
       "       [0, 1, 1, 2, 8, 9, 9],\n",
       "       [0, 0, 2, 2, 2, 6, 7],\n",
       "       [0, 0, 0, 2, 6, 6, 8],\n",
       "       [0, 3, 5, 6, 6, 7, 9]])"
      ]
     },
     "execution_count": 210,
     "metadata": {},
     "output_type": "execute_result"
    }
   ],
   "source": [
    "np.sort(random_1) # ---- Sorts each row in the nd array"
   ]
  },
  {
   "cell_type": "code",
   "execution_count": 211,
   "id": "4e28b800",
   "metadata": {},
   "outputs": [
    {
     "data": {
      "text/plain": [
       "array([[0, 2, 3, 4, 1, 5, 6],\n",
       "       [1, 4, 5, 3, 0, 2, 6],\n",
       "       [3, 6, 0, 2, 5, 4, 1],\n",
       "       [1, 4, 5, 3, 0, 6, 2],\n",
       "       [1, 2, 3, 5, 6, 4, 0]], dtype=int64)"
      ]
     },
     "execution_count": 211,
     "metadata": {},
     "output_type": "execute_result"
    }
   ],
   "source": [
    "# ----- Sorting 2\n",
    "np.argsort(random_1) # ----- Sorts the elements giving their previous position"
   ]
  },
  {
   "cell_type": "code",
   "execution_count": 219,
   "id": "8bc94c1b",
   "metadata": {},
   "outputs": [
    {
     "data": {
      "text/plain": [
       "(array([[2, 7, 2, 3, 4, 7, 9],\n",
       "        [8, 0, 9, 2, 1, 1, 9],\n",
       "        [2, 7, 2, 0, 6, 2, 0],\n",
       "        [6, 0, 8, 2, 0, 0, 6],\n",
       "        [9, 0, 3, 5, 7, 6, 6]]),\n",
       " array([[1, 8, 6, 8, 4, 3, 5],\n",
       "        [9, 5, 6, 3, 8, 2, 7],\n",
       "        [7, 7, 9, 2, 2, 6, 8],\n",
       "        [0, 6, 8, 5, 1, 8, 8],\n",
       "        [6, 9, 5, 0, 8, 5, 0]]))"
      ]
     },
     "execution_count": 219,
     "metadata": {},
     "output_type": "execute_result"
    }
   ],
   "source": [
    "random_1 , random_2"
   ]
  },
  {
   "cell_type": "code",
   "execution_count": 216,
   "id": "402415de",
   "metadata": {},
   "outputs": [
    {
     "data": {
      "text/plain": [
       "array([0, 1, 0, 2, 3, 3, 2], dtype=int64)"
      ]
     },
     "execution_count": 216,
     "metadata": {},
     "output_type": "execute_result"
    }
   ],
   "source": [
    "# ---- Sorting 3\n",
    "np.argmin(random_1,axis=0) # ---- Returns the index of the minimum element of the array"
   ]
  },
  {
   "cell_type": "code",
   "execution_count": 218,
   "id": "d41472d5",
   "metadata": {},
   "outputs": [
    {
     "data": {
      "text/plain": [
       "array([4, 0, 1, 4, 4, 0, 0], dtype=int64)"
      ]
     },
     "execution_count": 218,
     "metadata": {},
     "output_type": "execute_result"
    }
   ],
   "source": [
    "# ---- Sorting 4\n",
    "np.argmax(random_1,axis=0) # ---- Returns the index of the maximum element of the array"
   ]
  },
  {
   "cell_type": "markdown",
   "id": "371c6dc7",
   "metadata": {},
   "source": [
    "\n",
    "## Practical Example of using Pandas"
   ]
  },
  {
   "cell_type": "code",
   "execution_count": 228,
   "id": "3bf258fb",
   "metadata": {},
   "outputs": [
    {
     "data": {
      "text/plain": [
       "array([[5, 0, 3],\n",
       "       [3, 7, 9],\n",
       "       [3, 5, 2],\n",
       "       [4, 7, 6],\n",
       "       [8, 8, 1]])"
      ]
     },
     "execution_count": 228,
     "metadata": {},
     "output_type": "execute_result"
    }
   ],
   "source": [
    "np.random.seed(0)\n",
    "sale_amount_for_each_product = np.random.randint(10,size=(5,3)) # ---- Generate a random element in ndarray\n",
    "sale_amount_for_each_product\n"
   ]
  },
  {
   "cell_type": "code",
   "execution_count": 229,
   "id": "bf42b491",
   "metadata": {},
   "outputs": [
    {
     "data": {
      "text/html": [
       "<div>\n",
       "<style scoped>\n",
       "    .dataframe tbody tr th:only-of-type {\n",
       "        vertical-align: middle;\n",
       "    }\n",
       "\n",
       "    .dataframe tbody tr th {\n",
       "        vertical-align: top;\n",
       "    }\n",
       "\n",
       "    .dataframe thead th {\n",
       "        text-align: right;\n",
       "    }\n",
       "</style>\n",
       "<table border=\"1\" class=\"dataframe\">\n",
       "  <thead>\n",
       "    <tr style=\"text-align: right;\">\n",
       "      <th></th>\n",
       "      <th>Almond butter</th>\n",
       "      <th>Peanut butter</th>\n",
       "      <th>Cashew butter</th>\n",
       "    </tr>\n",
       "  </thead>\n",
       "  <tbody>\n",
       "    <tr>\n",
       "      <th>Monday</th>\n",
       "      <td>2</td>\n",
       "      <td>6</td>\n",
       "      <td>9</td>\n",
       "    </tr>\n",
       "    <tr>\n",
       "      <th>Tuesday</th>\n",
       "      <td>3</td>\n",
       "      <td>7</td>\n",
       "      <td>6</td>\n",
       "    </tr>\n",
       "    <tr>\n",
       "      <th>Wednesday</th>\n",
       "      <td>0</td>\n",
       "      <td>7</td>\n",
       "      <td>8</td>\n",
       "    </tr>\n",
       "    <tr>\n",
       "      <th>Thursday</th>\n",
       "      <td>4</td>\n",
       "      <td>7</td>\n",
       "      <td>2</td>\n",
       "    </tr>\n",
       "    <tr>\n",
       "      <th>Friday</th>\n",
       "      <td>8</td>\n",
       "      <td>1</td>\n",
       "      <td>2</td>\n",
       "    </tr>\n",
       "  </tbody>\n",
       "</table>\n",
       "</div>"
      ],
      "text/plain": [
       "           Almond butter  Peanut butter  Cashew butter\n",
       "Monday                 2              6              9\n",
       "Tuesday                3              7              6\n",
       "Wednesday              0              7              8\n",
       "Thursday               4              7              2\n",
       "Friday                 8              1              2"
      ]
     },
     "execution_count": 229,
     "metadata": {},
     "output_type": "execute_result"
    }
   ],
   "source": [
    "# ---- Create a pandas dataframe\n",
    "import pandas as pd\n",
    "weekly_sales = pd.DataFrame(sale_amount_for_each_product,index=[\"Monday\",\"Tuesday\",\"Wednesday\",\"Thursday\",\"Friday\"],columns=[\"Almond butter\",\"Peanut butter\",\"Cashew butter\"]) # ---- Create a pandas dataframe\n",
    "table"
   ]
  },
  {
   "cell_type": "code",
   "execution_count": 230,
   "id": "3097aafe",
   "metadata": {},
   "outputs": [],
   "source": [
    "np.random.seed(0)\n",
    "price_array = np.array([10,40,50]) # ---- 1 dim array\n",
    "# ---- Create a table of butter prices\n",
    "butter_prices = pd.DataFrame(price_array.reshape(1,3),index=[\"prices\"],columns=[\"Almond price\",\"Peanut Price\",\"Cashew Price\"])\n",
    "\n",
    "# Now we reshape the array to 1 row and 3 columns because we have 3 columns and 1 index\n"
   ]
  },
  {
   "cell_type": "code",
   "execution_count": 231,
   "id": "0e5fc017",
   "metadata": {},
   "outputs": [
    {
     "data": {
      "text/plain": [
       "(array([10, 40, 50]),\n",
       " array([[5, 0, 3],\n",
       "        [3, 7, 9],\n",
       "        [3, 5, 2],\n",
       "        [4, 7, 6],\n",
       "        [8, 8, 1]]))"
      ]
     },
     "execution_count": 231,
     "metadata": {},
     "output_type": "execute_result"
    }
   ],
   "source": [
    "price_array , sale_amount_for_each_product"
   ]
  },
  {
   "cell_type": "code",
   "execution_count": 237,
   "id": "33f13b73",
   "metadata": {},
   "outputs": [
    {
     "data": {
      "text/plain": [
       "array([[200, 760, 330, 620, 450]])"
      ]
     },
     "execution_count": 237,
     "metadata": {},
     "output_type": "execute_result"
    }
   ],
   "source": [
    "np.dot(price_array.reshape(1,3),sale_amount_for_each_product.T)"
   ]
  },
  {
   "cell_type": "code",
   "execution_count": 240,
   "id": "81dc69fc",
   "metadata": {},
   "outputs": [
    {
     "data": {
      "text/plain": [
       "array([[200, 760, 330, 620, 450]])"
      ]
     },
     "execution_count": 240,
     "metadata": {},
     "output_type": "execute_result"
    }
   ],
   "source": [
    "# ---- Create the total column\n",
    "# ---- This is a sum pf the price and amout in each row.\n",
    "# Transpose to match broadcasting criteria\n",
    "total = np.dot(butter_prices,weekly_sales.T) # ---- Find the dot product of two matrix\n",
    "total"
   ]
  },
  {
   "cell_type": "code",
   "execution_count": 243,
   "id": "ca1234c2",
   "metadata": {},
   "outputs": [
    {
     "data": {
      "text/plain": [
       "(1, 5)"
      ]
     },
     "execution_count": 243,
     "metadata": {},
     "output_type": "execute_result"
    }
   ],
   "source": [
    "total.shape \n",
    "# we need to convert to 5 rows and 1 column to fit the dataframe, so total for each row"
   ]
  },
  {
   "cell_type": "code",
   "execution_count": 242,
   "id": "b3b53ba4",
   "metadata": {},
   "outputs": [],
   "source": [
    "# add the total to the dataframe\n",
    "weekly_sales[\"$ Total\"] = total.T"
   ]
  },
  {
   "cell_type": "code",
   "execution_count": 244,
   "id": "3bca4f11",
   "metadata": {},
   "outputs": [
    {
     "data": {
      "text/html": [
       "<div>\n",
       "<style scoped>\n",
       "    .dataframe tbody tr th:only-of-type {\n",
       "        vertical-align: middle;\n",
       "    }\n",
       "\n",
       "    .dataframe tbody tr th {\n",
       "        vertical-align: top;\n",
       "    }\n",
       "\n",
       "    .dataframe thead th {\n",
       "        text-align: right;\n",
       "    }\n",
       "</style>\n",
       "<table border=\"1\" class=\"dataframe\">\n",
       "  <thead>\n",
       "    <tr style=\"text-align: right;\">\n",
       "      <th></th>\n",
       "      <th>Almond butter</th>\n",
       "      <th>Peanut butter</th>\n",
       "      <th>Cashew butter</th>\n",
       "      <th>$ Total</th>\n",
       "    </tr>\n",
       "  </thead>\n",
       "  <tbody>\n",
       "    <tr>\n",
       "      <th>Monday</th>\n",
       "      <td>5</td>\n",
       "      <td>0</td>\n",
       "      <td>3</td>\n",
       "      <td>200</td>\n",
       "    </tr>\n",
       "    <tr>\n",
       "      <th>Tuesday</th>\n",
       "      <td>3</td>\n",
       "      <td>7</td>\n",
       "      <td>9</td>\n",
       "      <td>760</td>\n",
       "    </tr>\n",
       "    <tr>\n",
       "      <th>Wednesday</th>\n",
       "      <td>3</td>\n",
       "      <td>5</td>\n",
       "      <td>2</td>\n",
       "      <td>330</td>\n",
       "    </tr>\n",
       "    <tr>\n",
       "      <th>Thursday</th>\n",
       "      <td>4</td>\n",
       "      <td>7</td>\n",
       "      <td>6</td>\n",
       "      <td>620</td>\n",
       "    </tr>\n",
       "    <tr>\n",
       "      <th>Friday</th>\n",
       "      <td>8</td>\n",
       "      <td>8</td>\n",
       "      <td>1</td>\n",
       "      <td>450</td>\n",
       "    </tr>\n",
       "  </tbody>\n",
       "</table>\n",
       "</div>"
      ],
      "text/plain": [
       "           Almond butter  Peanut butter  Cashew butter  $ Total\n",
       "Monday                 5              0              3      200\n",
       "Tuesday                3              7              9      760\n",
       "Wednesday              3              5              2      330\n",
       "Thursday               4              7              6      620\n",
       "Friday                 8              8              1      450"
      ]
     },
     "execution_count": 244,
     "metadata": {},
     "output_type": "execute_result"
    }
   ],
   "source": [
    "weekly_sales"
   ]
  },
  {
   "cell_type": "markdown",
   "id": "6ed1db2b",
   "metadata": {},
   "source": [
    "## Project 2 using Numpy "
   ]
  },
  {
   "cell_type": "code",
   "execution_count": null,
   "id": "ac7d03c0",
   "metadata": {},
   "outputs": [],
   "source": []
  }
 ],
 "metadata": {
  "kernelspec": {
   "display_name": "Python 3 (ipykernel)",
   "language": "python",
   "name": "python3"
  },
  "language_info": {
   "codemirror_mode": {
    "name": "ipython",
    "version": 3
   },
   "file_extension": ".py",
   "mimetype": "text/x-python",
   "name": "python",
   "nbconvert_exporter": "python",
   "pygments_lexer": "ipython3",
   "version": "3.10.4"
  }
 },
 "nbformat": 4,
 "nbformat_minor": 5
}
